{
 "cells": [
  {
   "cell_type": "markdown",
   "metadata": {},
   "source": [
    "# Codewars - 001\n",
    "\n",
    "#### Excercise 1:  Credit Card Mask\n",
    "\n",
    "**DESCRIPTION:**\n",
    "\n",
    "Usually when you buy something, you're asked whether your credit card number, phone number or answer to your most secret question is still correct. However, since someone could look over your shoulder, you don't want that shown on your screen. Instead, we mask it.\n",
    "\n",
    "Your task is to write a function maskify, which changes all but the last four characters into '#'.\n",
    "\n",
    "**Examples**\n",
    "```\n",
    "\"4556364607935616\" --> \"############5616\"\n",
    "     \"64607935616\" -->      \"#######5616\"\n",
    "               \"1\" -->                \"1\"\n",
    "                \"\" -->                 \"\"\n",
    "\n",
    "// \"What was the name of your first pet?\"\n",
    "\n",
    "\"Skippy\" --> \"##ippy\"\n",
    "\n",
    "\"Nananananananananananananananana Batman!\"\n",
    "-->\n",
    "\"####################################man!\"\n",
    "```\n",
    "\n",
    "**String Slicing**\n"
   ]
  },
  {
   "cell_type": "code",
   "execution_count": 34,
   "metadata": {},
   "outputs": [
    {
     "data": {
      "text/plain": [
       "'1'"
      ]
     },
     "execution_count": 34,
     "metadata": {},
     "output_type": "execute_result"
    }
   ],
   "source": [
    "# return masked string\n",
    "def maskify(cc):\n",
    "    input = str(cc)\n",
    "    if len(cc) <= 4:\n",
    "        return cc\n",
    "    else:\n",
    "        result_mask = (len(cc)-4)*'#'\n",
    "        return result_mask + cc[-4:] \n",
    "    pass\n",
    "\n",
    "maskify(\"1\")\n"
   ]
  },
  {
   "cell_type": "code",
   "execution_count": null,
   "metadata": {},
   "outputs": [],
   "source": []
  }
 ],
 "metadata": {
  "kernelspec": {
   "display_name": "Python 3.10.8 64-bit",
   "language": "python",
   "name": "python3"
  },
  "language_info": {
   "codemirror_mode": {
    "name": "ipython",
    "version": 3
   },
   "file_extension": ".py",
   "mimetype": "text/x-python",
   "name": "python",
   "nbconvert_exporter": "python",
   "pygments_lexer": "ipython3",
   "version": "3.10.8"
  },
  "orig_nbformat": 4,
  "vscode": {
   "interpreter": {
    "hash": "beca5da3083f19144ba1e1f7878ef299cb438c45b7dac10152d338e9eb6b5eae"
   }
  }
 },
 "nbformat": 4,
 "nbformat_minor": 2
}
