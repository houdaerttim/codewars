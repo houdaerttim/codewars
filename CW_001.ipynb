{
 "cells": [
  {
   "cell_type": "markdown",
   "metadata": {},
   "source": [
    "# Codewars - 001\n",
    "\n",
    "#### Excercise 1:  Credit Card Mask\n",
    "\n",
    "**DESCRIPTION:**\n",
    "\n",
    "Usually when you buy something, you're asked whether your credit card number, phone number or answer to your most secret question is still correct. However, since someone could look over your shoulder, you don't want that shown on your screen. Instead, we mask it.\n",
    "\n",
    "Your task is to write a function maskify, which changes all but the last four characters into '#'.\n",
    "\n",
    "**Examples**\n",
    "```\n",
    "\"4556364607935616\" --> \"############5616\"\n",
    "     \"64607935616\" -->      \"#######5616\"\n",
    "               \"1\" -->                \"1\"\n",
    "                \"\" -->                 \"\"\n",
    "\n",
    "// \"What was the name of your first pet?\"\n",
    "\n",
    "\"Skippy\" --> \"##ippy\"\n",
    "\n",
    "\"Nananananananananananananananana Batman!\"\n",
    "-->\n",
    "\"####################################man!\"\n",
    "```\n",
    "\n",
    "**String Slicing**\n"
   ]
  },
  {
   "cell_type": "code",
   "execution_count": null,
   "metadata": {},
   "outputs": [
    {
     "data": {
      "text/plain": [
       "'1'"
      ]
     },
     "execution_count": 15,
     "metadata": {},
     "output_type": "execute_result"
    }
   ],
   "source": [
    "# return masked string\n",
    "def maskify(cc):\n",
    "    input = str(cc)\n",
    "    if len(cc) <= 4:\n",
    "        return cc\n",
    "    else:\n",
    "        result_mask = (len(cc)-4)*'#'\n",
    "        return result_mask + cc[-4:] \n",
    "    pass\n",
    "\n",
    "maskify(\"1\")\n"
   ]
  },
  {
   "cell_type": "markdown",
   "metadata": {},
   "source": [
    "#### Excercise 2:  'Descending Order'\n",
    "\n",
    "**DESCRIPTION:**\n",
    "\n",
    "Your task is to make a function that can take any non-negative integer as an argument and return it with its digits in descending order. Essentially, rearrange the digits to create the highest possible number.\n",
    "\n",
    "**Examples**\n",
    "\n",
    "```\n",
    "Input: 42145 Output: 54421\n",
    "\n",
    "Input: 145263 Output: 654321\n",
    "\n",
    "Input: 123456789 Output: 987654321\n",
    "```\n"
   ]
  },
  {
   "cell_type": "code",
   "execution_count": null,
   "metadata": {},
   "outputs": [
    {
     "data": {
      "text/plain": [
       "4321"
      ]
     },
     "execution_count": 16,
     "metadata": {},
     "output_type": "execute_result"
    }
   ],
   "source": [
    "def descending_order(num):\n",
    "    str_num= str(num)\n",
    "    lst = []\n",
    "    result = ''\n",
    "    for i in str_num:\n",
    "        lst.append(int(i))\n",
    "    lst.sort(reverse=True)\n",
    "    for i in lst:\n",
    "        result += str(i)\n",
    "    return(int(result))\n",
    "\n",
    "descending_order(1234)\n",
    "    # Bust a move right here"
   ]
  },
  {
   "cell_type": "markdown",
   "metadata": {},
   "source": [
    "#### Excercise 3:  'Highest and Lowest'\n",
    "\n",
    "**DESCRIPTION:**\n",
    "\n",
    "In this little assignment you are given a string of space separated numbers, and have to return the highest and lowest number.\n",
    "\n",
    "**Examples**\n",
    "\n",
    "```\n",
    "high_and_low(\"1 2 3 4 5\")  # return \"5 1\"\n",
    "high_and_low(\"1 2 -3 4 5\") # return \"5 -3\"\n",
    "high_and_low(\"1 9 3 4 -5\") # return \"9 -5\"\n",
    "```\n",
    "**Notes**\n",
    "All numbers are valid Int32, no need to validate them.\n",
    "There will always be at least one number in the input string.\n",
    "Output string must be two numbers separated by a single space, and highest number is first."
   ]
  },
  {
   "cell_type": "code",
   "execution_count": null,
   "metadata": {},
   "outputs": [
    {
     "data": {
      "text/plain": [
       "'42 -9'"
      ]
     },
     "execution_count": 17,
     "metadata": {},
     "output_type": "execute_result"
    }
   ],
   "source": [
    "def high_and_low(numbers):\n",
    "    lst = numbers.split(' ')\n",
    "    lst2 = []\n",
    "    for i in lst:\n",
    "        lst2.append(int(i))\n",
    "    lst2.sort(reverse=True)\n",
    "    numbers = str(lst2[0]) + ' ' + str(lst2[-1])\n",
    "    return numbers\n",
    "\n",
    "high_and_low(\"8 3 -5 42 -1 0 0 -9 4 7 4 -4\")"
   ]
  },
  {
   "cell_type": "markdown",
   "metadata": {},
   "source": [
    "#### Excercise 4 :  'Basic Mathematical Operations'\n",
    "\n",
    "**DESCRIPTION:**\n",
    "\n",
    "Your task is to create a function that does four basic mathematical operations.\n",
    "\n",
    "The function should take three arguments - operation(string/char), value1(number), value2(number).\n",
    "The function should return result of numbers after applying the chosen operation.\n",
    "\n",
    "**Examples**\n",
    "```\n",
    "('+', 4, 7) --> 11\n",
    "('-', 15, 18) --> -3\n",
    "('*', 5, 5) --> 25\n",
    "('/', 49, 7) --> 7\n",
    "```\n"
   ]
  },
  {
   "cell_type": "code",
   "execution_count": null,
   "metadata": {},
   "outputs": [],
   "source": [
    "def basic_op(operator, value1, value2):\n",
    "    op = operator\n",
    "    v1 = value1\n",
    "    v2 = value2\n",
    "\n",
    "    if op == '+':\n",
    "        return v1 + v2\n",
    "    if op == '-':\n",
    "        return v1 - v2\n",
    "    if op == '*':\n",
    "        return v1 * v2\n",
    "    if op == '/':\n",
    "        return v1 / v2\n",
    "\n",
    "basic_op('-', 4,7)\n",
    "\n",
    "\n",
    "## Option 2 - eval()\n",
    "def basic_op(operator, value1, value2):\n",
    "    return eval(str(value1) + operator + str(value2))\n"
   ]
  },
  {
   "cell_type": "markdown",
   "metadata": {},
   "source": [
    "#### Excercise 4 :  'Complementary DNA'\n",
    "\n",
    "**DESCRIPTION:**\n",
    "\n",
    "Deoxyribonucleic acid (DNA) is a chemical found in the nucleus of cells and carries the \"instructions\" for the development and functioning of living organisms.\n",
    "\n",
    "If you want to know more: http://en.wikipedia.org/wiki/DNA\n",
    "\n",
    "In DNA strings, symbols \"A\" and \"T\" are complements of each other, as \"C\" and \"G\". Your function receives one side of the DNA (string, except for Haskell); you need to return the other complementary side. DNA strand is never empty or there is no DNA at all (again, except for Haskell).\n",
    "\n",
    "More similar exercise are found here: http://rosalind.info/problems/list-view/ (source)\n",
    "\n",
    "**Examples**\n",
    "\n",
    "Example: (input --> output)\n",
    "\n",
    "```\n",
    "\"ATTGC\" --> \"TAACG\"\n",
    "\"GTAT\" --> \"CATA\"\n",
    "```\n"
   ]
  },
  {
   "cell_type": "code",
   "execution_count": null,
   "metadata": {},
   "outputs": [],
   "source": [
    "def DNA_strand(dna):\n",
    "    result = ''\n",
    "    for i in dna:\n",
    "        if i == \"A\":\n",
    "            result += \"T\"\n",
    "        elif i == \"T\":\n",
    "            result += \"A\"\n",
    "        elif i == \"G\":\n",
    "            result += \"C\"\n",
    "        elif i == \"C\":\n",
    "            result += \"G\"\n",
    "    return result\n",
    "\n",
    "DNA_strand('GTAT')\n",
    "\n",
    "pairs = {'A':'T','T':'A','C':'G','G':'C'}\n",
    "def DNA_strand(dna):\n",
    "    return ''.join([pairs[x] for x in dna])\n",
    "    # code here"
   ]
  },
  {
   "cell_type": "markdown",
   "metadata": {},
   "source": [
    "#### Excercise 5:  'Growth of a Population'\n",
    "\n",
    "**Description:**\n",
    "\n",
    "In a small town the population is p0 = 1000 at the beginning of a year. The population regularly increases by 2 percent per year and moreover 50 new inhabitants per year come to live in the town. How many years does the town need to see its population greater or equal to p = 1200 inhabitants?\n",
    "\n",
    "```python\n",
    "At the end of the first year there will be: \n",
    "1000 + 1000 * 0.02 + 50 => 1070 inhabitants\n",
    "\n",
    "At the end of the 2nd year there will be: \n",
    "1070 + 1070 * 0.02 + 50 => 1141 inhabitants (** number of inhabitants is an integer **)\n",
    "\n",
    "At the end of the 3rd year there will be:\n",
    "1141 + 1141 * 0.02 + 50 => 1213\n",
    "\n",
    "It will need 3 entire years.\n",
    "```\n",
    "\n",
    "More generally given parameters:\n",
    "\n",
    "p0, percent, aug (inhabitants coming or leaving each year), p (population to equal or surpass)\n",
    "\n",
    "the function nb_year should return n number of entire years needed to get a population greater or equal to p.\n",
    "\n",
    "aug is an integer, percent a positive or null floating number, p0 and p are positive integers (> 0)\n",
    "\n",
    "**Examples:**\n",
    "nb_year(1500, 5, 100, 5000) -> 15\n",
    "nb_year(1500000, 2.5, 10000, 2000000) -> 10\n",
    "Note:\n",
    "\n",
    "Don't forget to convert the percent parameter as a percentage in the body of your function: if the parameter percent is 2 you have to convert it to 0.02.\n"
   ]
  },
  {
   "cell_type": "code",
   "execution_count": 4,
   "metadata": {},
   "outputs": [
    {
     "data": {
      "text/plain": [
       "19"
      ]
     },
     "execution_count": 4,
     "metadata": {},
     "output_type": "execute_result"
    }
   ],
   "source": [
    "import math\n",
    "def nb_year(p0, percent, aug, p):\n",
    "    # your code\n",
    "    i = 0\n",
    "    pct = percent / 100\n",
    "    ptot = p0\n",
    "    if pct == 0:\n",
    "        while not ptot >= p:\n",
    "            ptot = ptot + aug\n",
    "            ptot = math.floor(ptot)\n",
    "            i += 1\n",
    "    else:\n",
    "        while not ptot >= p:\n",
    "            ptot = ptot + ptot * pct + aug\n",
    "            ptot = math.floor(ptot)\n",
    "            i += 1\n",
    "    return i\n",
    "\n",
    "nb_year(1500000, 1.0, 10000, 2000000)\n",
    "\n",
    "def nb_year(p0, percent, aug, p, years = 0):\n",
    "    if p0 < p:\n",
    "        return nb_year(p0 + int(p0 * percent / 100) + aug, percent, aug, p, years + 1)\n",
    "    return years"
   ]
  },
  {
   "cell_type": "markdown",
   "metadata": {},
   "source": [
    "#### Excercise 6:  'Painting Pets Blue (with regex)'\n",
    "\n",
    "**DESCRIPTION:**\n",
    "\n",
    "For this kata, you need to build two regex strings to paint dogs and cats blue. Each of the given inputs will be a word of mixed case characters followed by either cat or dog. The string will be matched and replaced by the respective expressions.\n",
    "\n",
    "search will be used to capture the given strings. For example:\n",
    "\n",
    "grey dog \n",
    "Fast cat\n",
    "qWeRtY cat\n",
    "blue dog\n",
    "The other will be used to replace the first word with blue, but retaining the original animal:\n",
    "\n",
    "grey dog   => blue dog\n",
    "Fast cat   => blue cat\n",
    "qWeRtY cat => blue cat\n",
    "blue dog   => blue dog\n",
    "Good luck!\n",
    "\n",
    "P.S: both search and substitute must be returned as strings."
   ]
  },
  {
   "cell_type": "code",
   "execution_count": 8,
   "metadata": {},
   "outputs": [
    {
     "data": {
      "text/plain": [
       "'blue cat'"
      ]
     },
     "execution_count": 8,
     "metadata": {},
     "output_type": "execute_result"
    }
   ],
   "source": [
    "import re\n",
    "\n",
    "# Each of the given inputs will be a word of \n",
    "# mixed case characters followed by either `cat` or `dog`.\n",
    "\n",
    "search = \"qWeRtY cat\" \n",
    "\n",
    "def substitute(search):\n",
    "    return('blue ' + search.split(' ')[1])\n",
    "\n",
    "substitute(search)\n"
   ]
  },
  {
   "cell_type": "markdown",
   "metadata": {},
   "source": [
    "#### Excercise 06:  'Bit Counting'\n",
    "\n",
    "**DESCRIPTION:**\n",
    "\n",
    "Write a function that takes an integer as input, and returns the number of bits that are equal to one in the binary representation of that number. You can guarantee that input is non-negative.\n",
    "\n",
    "**Example:** The binary representation of 1234 is 10011010010, so the function should return 5 in this case "
   ]
  },
  {
   "cell_type": "code",
   "execution_count": 12,
   "metadata": {},
   "outputs": [],
   "source": [
    "def count_bits(n):\n",
    "    y = 0\n",
    "    for i in '{0:b}'.format(n):\n",
    "        if i == '1':\n",
    "            y +=1 \n",
    "    return y    \n",
    "count_bits(1234)\n",
    "\n",
    "def countBits3(n):\n",
    "    return bin(n).count(\"1\")\n"
   ]
  },
  {
   "cell_type": "code",
   "execution_count": 4,
   "metadata": {},
   "outputs": [
    {
     "data": {
      "text/plain": [
       "5"
      ]
     },
     "execution_count": 4,
     "metadata": {},
     "output_type": "execute_result"
    }
   ],
   "source": [
    "def count_bits2(n):\n",
    "    return '{0:b}'.format(n).count('1') \n",
    "count_bits2(1234)\n"
   ]
  },
  {
   "cell_type": "markdown",
   "metadata": {},
   "source": [
    "#### Excercise 7:  'Sum of Digits / Digital Root'\n",
    "\n",
    "### DESCRIPTION:\n",
    "Digital root is the recursive sum of all the digits in a number.\n",
    "\n",
    "Given n, take the sum of the digits of n. If that value has more than one digit, continue reducing in this way until a single-digit number is produced. The input will be a non-negative integer.\n",
    "\n",
    "## Examples\n",
    "    16  -->  1 + 6 = 7\n",
    "   942  -->  9 + 4 + 2 = 15  -->  1 + 5 = 6\n",
    "132189  -->  1 + 3 + 2 + 1 + 8 + 9 = 24  -->  2 + 4 = 6\n",
    "493193  -->  4 + 9 + 3 + 1 + 9 + 3 = 29  -->  2 + 9 = 11  -->  1 + 1 = 2\n",
    "    "
   ]
  },
  {
   "cell_type": "code",
   "execution_count": 20,
   "metadata": {},
   "outputs": [
    {
     "data": {
      "text/plain": [
       "2"
      ]
     },
     "execution_count": 20,
     "metadata": {},
     "output_type": "execute_result"
    }
   ],
   "source": [
    "def digital_root(n):\n",
    "    while len(str(n)) > 1:\n",
    "        y = 0\n",
    "        for i in str(n):\n",
    "            y += int(i)\n",
    "        n = str(y)\n",
    "    return int(n)\n",
    "    \n",
    "\n",
    "digital_root(493193)\n",
    "\n",
    "def digital_root(n):\n",
    "    return n if n < 10 else digital_root(sum(map(int,str(n))))"
   ]
  },
  {
   "cell_type": "markdown",
   "metadata": {},
   "source": [
    "#### Excercise 8:  'Binary Addition'\n",
    "\n",
    "### DESCRIPTION:\n",
    "Implement a function that adds two numbers together and returns their sum in binary. The conversion can be done before, or after the addition.\n",
    "\n",
    "The binary number returned should be a string.\n",
    "\n",
    "## Examples:\n",
    "(Input1, Input2 --> Output (explanation)))\n",
    "\n",
    "1, 1 --> \"10\" (1 + 1 = 2 in decimal or 10 in binary)\n",
    "5, 9 --> \"1110\" (5 + 9 = 14 in decimal or 1110 in binary)"
   ]
  },
  {
   "cell_type": "code",
   "execution_count": 3,
   "metadata": {},
   "outputs": [],
   "source": [
    "def add_binary(a,b):\n",
    "    return '{0:b}'.format(a+b)\n",
    "add_binary(9,5)\n",
    "\n",
    "def add_binary(a,b):\n",
    "    return bin(a+b)[2:]"
   ]
  },
  {
   "cell_type": "markdown",
   "metadata": {},
   "source": [
    "#### Excercise 9:  'Sum of odd numbers'\n",
    "\n",
    "**DESCRIPTION:**\n",
    "\n",
    "DESCRIPTION:\n",
    "Given the triangle of consecutive odd numbers:\n",
    "```python\n",
    "             1\n",
    "          3     5\n",
    "       7     9    11\n",
    "   13    15    17    19\n",
    "21    23    25    27    29\n",
    "...\n",
    "```\n",
    "\n",
    "Calculate the sum of the numbers in the nth row of this triangle (starting at index 1) e.g.: (Input --> Output)\n",
    "\n",
    "1 -->  1\n",
    "2 --> 3 + 5 = 8"
   ]
  },
  {
   "cell_type": "code",
   "execution_count": 8,
   "metadata": {},
   "outputs": [
    {
     "data": {
      "text/plain": [
       "'\\nThe deviation of the first number of each line is an arithmetic progression.(2,4,6,8...). So the first number of n-th line is 1 + n*(n-1) and the first number of (n+1)-th line is 1+(n+1)* n Again the n-line is a arithmetic progression. the sum of it is [1 + n*(n-1) + 1+(n+1)* n-2 ]*n/2 = n^3;\\n'"
      ]
     },
     "execution_count": 8,
     "metadata": {},
     "output_type": "execute_result"
    }
   ],
   "source": [
    "def row_sum_odd_numbers(n):\n",
    "    row = n\n",
    "    i = n\n",
    "    while i > 1:\n",
    "        i = i -1\n",
    "        row = row + i\n",
    "    last_odd = (row * 2)-1\n",
    "    total = 0\n",
    "    i = n\n",
    "    while i >= 1:\n",
    "        i = i -1\n",
    "        total += last_odd\n",
    "        last_odd -= 2   \n",
    "    return(total)\n",
    "\n",
    "row_sum_odd_numbers(3)\n",
    "\n",
    "def row_sum_odd_numbers(n):\n",
    "    #your code here\n",
    "    return n ** 3\n",
    "\n",
    "\"\"\"\n",
    "The deviation of the first number of each line is an arithmetic progression.(2,4,6,8...). So the first number of n-th line is 1 + n*(n-1) and the first number of (n+1)-th line is 1+(n+1)* n Again the n-line is a arithmetic progression. the sum of it is [1 + n*(n-1) + 1+(n+1)* n-2 ]*n/2 = n^3;\n",
    "\"\"\""
   ]
  },
  {
   "cell_type": "markdown",
   "metadata": {},
   "source": [
    "#### Excercise 10:  'Detect Pangram'\n",
    "\n",
    "**DESCRIPTION:**\n",
    "\n",
    "A pangram is a sentence that contains every single letter of the alphabet at least once. For example, the sentence \"The quick brown fox jumps over the lazy dog\" is a pangram, because it uses the letters A-Z at least once (case is irrelevant).\n",
    "\n",
    "Given a string, detect whether or not it is a pangram. Return True if it is, False if not. Ignore numbers and punctuation."
   ]
  },
  {
   "cell_type": "code",
   "execution_count": 8,
   "metadata": {},
   "outputs": [
    {
     "data": {
      "text/plain": [
       "True"
      ]
     },
     "execution_count": 8,
     "metadata": {},
     "output_type": "execute_result"
    }
   ],
   "source": [
    "def is_pangram(s):\n",
    "    abc = ['a','b','c','d','e','f','g','h','i','j','k','l','m','n','o','p','q','r','s','t','u','v','w','x','y','z']\n",
    "    for i in s.lower():\n",
    "        if i in abc:\n",
    "            abc.remove(i)\n",
    "        continue\n",
    "    if len(abc) != 0:\n",
    "        return False\n",
    "    return True\n",
    "\n",
    "is_pangram(\"The uick brownq fox jumps over the lazy dog\")\n",
    "\n",
    "import string\n",
    "\n",
    "def is_pangram2(s):\n",
    "    s = s.lower()\n",
    "    for char in 'abcdefghijklmnopqrstuvwxyz':\n",
    "        if char not in s:\n",
    "            return False\n",
    "    return True\n",
    "is_pangram2(\"The uick brownq fox jumps over the lazy dog\")\n"
   ]
  },
  {
   "cell_type": "markdown",
   "metadata": {},
   "source": [
    "#### Excercise 11:  'Consecutive strings'\n",
    "\n",
    "**DESCRIPTION:**\n",
    "\n",
    "You are given an array(list) strarr of strings and an integer k. Your task is to return the first longest string consisting of k consecutive strings taken in the array.\n",
    "\n",
    "**Examples:**\n",
    "```\n",
    "strarr = [\"tree\", \"foling\", \"trashy\", \"blue\", \"abcdef\", \"uvwxyz\"], k = 2\n",
    "\n",
    "\n",
    "Concatenate the consecutive strings of strarr by 2, we get:\n",
    "\n",
    "treefoling   (length 10)  concatenation of strarr[0] and strarr[1]\n",
    "folingtrashy (\"      12)  concatenation of strarr[1] and strarr[2]\n",
    "trashyblue   (\"      10)  concatenation of strarr[2] and strarr[3]\n",
    "blueabcdef   (\"      10)  concatenation of strarr[3] and strarr[4]\n",
    "abcdefuvwxyz (\"      12)  concatenation of strarr[4] and strarr[5]\n",
    "\n",
    "Two strings are the longest: \"folingtrashy\" and \"abcdefuvwxyz\".\n",
    "The first that came is \"folingtrashy\" so \n",
    "longest_consec(strarr, 2) should return \"folingtrashy\".\n",
    "```\n",
    "\n",
    "In the same way:\n",
    "longest_consec([\"zone\", \"abigail\", \"theta\", \"form\", \"libe\", \"zas\", \"theta\", \"abigail\"], 2) --> \"abigailtheta\"\n",
    "n being the length of the string array, if n = 0 or k > n or k <= 0 return \"\" (return Nothing in Elm, \"nothing\" in Erlang).\n",
    "\n",
    "\n",
    "\n",
    "**Note**\n",
    "\n",
    "consecutive strings : follow one after another without an interruption\n"
   ]
  },
  {
   "cell_type": "code",
   "execution_count": 2,
   "metadata": {},
   "outputs": [
    {
     "data": {
      "text/plain": [
       "'abigailtheta'"
      ]
     },
     "execution_count": 2,
     "metadata": {},
     "output_type": "execute_result"
    }
   ],
   "source": [
    "def longest_consec(strarr, k):\n",
    "    n = len(strarr)\n",
    "    if n == 0 or k > n or k <= 0: return \"\"\n",
    "    elif k == 1: return max(strarr, key=len)\n",
    "    else: \n",
    "        longest = 0\n",
    "        r = ''\n",
    "        for y in range(0, (len(strarr)-(k-1))):\n",
    "            retstr = strarr[y]\n",
    "            for i in range(1,k):\n",
    "                retstr +=  strarr[y+i]\n",
    "            if len(retstr) > len(r):\n",
    "                longest = y\n",
    "                r = retstr\n",
    "        return r \n",
    "    # your code\n",
    "\n",
    "\n",
    "strarr = [\"tree\", \"foling\", \"trashy\", \"blue\", \"abcdef\", \"uvwxyz\"] \n",
    "k = 2\n",
    "longest_consec([\"zone\", \"abigail\", \"theta\", \"form\", \"libe\", \"zas\"], 2)\n",
    "\n",
    "def longest_consec(strarr, k):\n",
    "    result = \"\"\n",
    "    \n",
    "    if k > 0 and len(strarr) >= k:\n",
    "        for index in range(len(strarr) - k + 1):\n",
    "            s = ''.join(strarr[index:index+k])\n",
    "            if len(s) > len(result):\n",
    "                result = s\n",
    "            \n",
    "    return result\n",
    "\n"
   ]
  },
  {
   "cell_type": "markdown",
   "metadata": {},
   "source": [
    "#### Excercise 12:  'Count the smiley faces!'\n",
    "\n",
    "**DESCRIPTION:**\n",
    "\n",
    "Given an array (arr) as an argument complete the function countSmileys that should return the total number of smiling faces.\n",
    "\n",
    "Rules for a smiling face:\n",
    "\n",
    "Each smiley face must contain a valid pair of eyes. Eyes can be marked as : or ;\n",
    "A smiley face can have a nose but it does not have to. Valid characters for a nose are - or ~\n",
    "Every smiling face must have a smiling mouth that should be marked with either ) or D\n",
    "No additional characters are allowed except for those mentioned.\n",
    "\n",
    "Valid smiley face examples: :) :D ;-D :~)\n",
    "Invalid smiley faces: ;( :> :} :]\n",
    "\n",
    "**Example**\n",
    "```\n",
    "countSmileys([':)', ';(', ';}', ':-D']);       // should return 2;\n",
    "countSmileys([';D', ':-(', ':-)', ';~)']);     // should return 3;\n",
    "countSmileys([';]', ':[', ';*', ':$', ';-D']); // should return 1;\n",
    "```\n",
    "\n",
    "**Note**\n",
    "In case of an empty array return 0. You will not be tested with invalid input (input will always be an array). Order of the face (eyes, nose, mouth) elements will always be the same.\n",
    "\n"
   ]
  },
  {
   "cell_type": "code",
   "execution_count": 3,
   "metadata": {},
   "outputs": [],
   "source": [
    "def count_smileys(arr):\n",
    "\n",
    "    return #the number of valid smiley faces in array/list\n",
    "\n",
    "from re import findall\n",
    "def count_smileys(arr):\n",
    "    return len(list(findall(r\"[:;][-~]?[)D]\", \" \".join(arr))))\n",
    "\n",
    "\n",
    "import re\n",
    "\n",
    "def count_smileys(arr):\n",
    "    return sum(1 for s in arr if re.match(r'\\A[:;][-~]?[)D]\\Z',s))"
   ]
  },
  {
   "cell_type": "markdown",
   "metadata": {},
   "source": [
    "#### Excercise 13:  'Roman Numerals Encoder'\n",
    "\n",
    "**DESCRIPTION:**\n",
    "\n",
    "Create a function taking a positive integer as its parameter and returning a string containing the Roman Numeral representation of that integer.\n",
    "\n",
    "Modern Roman numerals are written by expressing each digit separately starting with the left most digit and skipping any digit with a value of zero. In Roman numerals 1990 is rendered: 1000=M, 900=CM, 90=XC; resulting in MCMXC. 2008 is written as 2000=MM, 8=VIII; or MMVIII. 1666 uses each Roman symbol in descending order: MDCLXVI.\n",
    "\n",
    "**Example:**\n",
    "\n",
    "`solution(1000) # should return 'M'`\n",
    "\n",
    "**Help:**\n",
    "```\n",
    "Symbol    Value\n",
    "I          1\n",
    "V          5\n",
    "X          10\n",
    "L          50\n",
    "C          100\n",
    "D          500\n",
    "M          1,000\n",
    "```\n",
    "\n",
    "Remember that there can't be more than 3 identical symbols in a row.\n",
    "\n",
    "More about roman numerals - http://en.wikipedia.org/wiki/Roman_numerals"
   ]
  },
  {
   "cell_type": "code",
   "execution_count": 5,
   "metadata": {},
   "outputs": [
    {
     "data": {
      "text/plain": [
       "'MDXLIV'"
      ]
     },
     "execution_count": 5,
     "metadata": {},
     "output_type": "execute_result"
    }
   ],
   "source": [
    "def solution(n):\n",
    "    num = [1, 4, 5, 9, 10, 40, 50, 90,\n",
    "        100, 400, 500, 900, 1000]\n",
    "    sym = [\"I\", \"IV\", \"V\", \"IX\", \"X\", \"XL\",\n",
    "        \"L\", \"XC\", \"C\", \"CD\", \"D\", \"CM\", \"M\"]\n",
    "    i = 12\n",
    "    r = ''  \n",
    "    while n:\n",
    "        div = n // num[i]\n",
    "        n %= num[i]\n",
    "        while div:\n",
    "            r += sym[i]\n",
    "            div -= 1\n",
    "        i -= 1\n",
    "    return r\n",
    "\n",
    "solution(1544)\n"
   ]
  },
  {
   "cell_type": "markdown",
   "metadata": {},
   "source": [
    "#### Excercise 14:  ' Count characters in your string '\n",
    "\n",
    "**DESCRIPTION:**\n",
    "\n",
    "The main idea is to count all the occurring characters in a string. If you have a string like `aba`, then the result should be `{'a': 2, 'b': 1}`.\n",
    "\n",
    "What if the string is empty? Then the result should be empty object literal, `{}`.\n",
    "\n"
   ]
  },
  {
   "cell_type": "code",
   "execution_count": 4,
   "metadata": {},
   "outputs": [
    {
     "data": {
      "text/plain": [
       "{'e': 1, 's': 1, 't': 2}"
      ]
     },
     "execution_count": 4,
     "metadata": {},
     "output_type": "execute_result"
    }
   ],
   "source": [
    "def count(string):\n",
    "    d = {}\n",
    "    for i in (''.join(sorted(string))):\n",
    "        if i not in d.keys():\n",
    "            d[i] = 1\n",
    "        else: d[i] = d[i]+1\n",
    "    return d\n",
    "\n",
    "count('test')\n"
   ]
  },
  {
   "cell_type": "markdown",
   "metadata": {},
   "source": [
    "#### Excercise 15:  'Unique In Order'\n",
    "\n",
    "**DESCRIPTION:**\n",
    "\n",
    "Implement the function unique_in_order which takes as argument a sequence and returns a list of items without any elements with the same value next to each other and preserving the original order of elements.\n",
    "\n",
    "***example:***\n",
    "```\n",
    "unique_in_order('AAAABBBCCDAABBB') == ['A', 'B', 'C', 'D', 'A', 'B']\n",
    "unique_in_order('ABBCcAD')         == ['A', 'B', 'C', 'c', 'A', 'D']\n",
    "unique_in_order([1,2,2,3,3])       == [1,2,3]\n",
    "```\n"
   ]
  },
  {
   "cell_type": "code",
   "execution_count": 11,
   "metadata": {},
   "outputs": [],
   "source": [
    "def unique_in_order(iterable):\n",
    "    lst = [iterable[0]]\n",
    "    for i in (iterable):\n",
    "       if not lst[-1] == i: continue\n",
    "       lst.append(i)\n",
    "    #else: d[i] = d[i]+1\n",
    "    return lst\n",
    "\n",
    "unique_in_order([1,2,2,3,3])   "
   ]
  },
  {
   "cell_type": "markdown",
   "metadata": {},
   "source": [
    "#### Excercise ..:  '  '\n",
    "\n",
    "**DESCRIPTION:**\n",
    "\n",
    "\n"
   ]
  }
 ],
 "metadata": {
  "kernelspec": {
   "display_name": "Python 3.10.8 64-bit",
   "language": "python",
   "name": "python3"
  },
  "language_info": {
   "codemirror_mode": {
    "name": "ipython",
    "version": 3
   },
   "file_extension": ".py",
   "mimetype": "text/x-python",
   "name": "python",
   "nbconvert_exporter": "python",
   "pygments_lexer": "ipython3",
   "version": "3.10.8"
  },
  "orig_nbformat": 4,
  "vscode": {
   "interpreter": {
    "hash": "beca5da3083f19144ba1e1f7878ef299cb438c45b7dac10152d338e9eb6b5eae"
   }
  }
 },
 "nbformat": 4,
 "nbformat_minor": 2
}
