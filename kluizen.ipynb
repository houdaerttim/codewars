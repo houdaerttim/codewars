{
 "cells": [
  {
   "cell_type": "code",
   "execution_count": 2,
   "metadata": {},
   "outputs": [
    {
     "name": "stdout",
     "output_type": "stream",
     "text": [
      "{'Terrein': 'ok', 'Clubhuis': 'ok', 'Driving': 'ok', 'Lockers': 'ok', 'Buggy’s': 'ok', 'Putting': 'ok', 'Chipping': 'ok'}\n",
      "Connection to SQLite DB successful\n",
      "Query executed successfully\n",
      "Query executed successfully\n",
      "Query executed successfully\n",
      "Query executed successfully\n",
      "Query executed successfully\n",
      "Query executed successfully\n",
      "Query executed successfully\n"
     ]
    },
    {
     "data": {
      "text/plain": [
       "[(1, 'De Kluizen', 'Terrein', 'ok', '20221109T160717'),\n",
       " (2, 'De Kluizen', 'Clubhuis', 'ok', '20221109T160717'),\n",
       " (3, 'De Kluizen', 'Driving', 'ok', '20221109T160717'),\n",
       " (4, 'De Kluizen', 'Lockers', 'ok', '20221109T160717'),\n",
       " (5, 'De Kluizen', 'Buggy’s', 'ok', '20221109T160717'),\n",
       " (6, 'De Kluizen', 'Putting', 'ok', '20221109T160717'),\n",
       " (7, 'De Kluizen', 'Chipping', 'ok', '20221109T160717'),\n",
       " (8, 'De Kluizen', 'Terrein', 'ok', '20221109T160753'),\n",
       " (9, 'De Kluizen', 'Clubhuis', 'ok', '20221109T160753'),\n",
       " (10, 'De Kluizen', 'Driving', 'ok', '20221109T160753'),\n",
       " (11, 'De Kluizen', 'Lockers', 'ok', '20221109T160753'),\n",
       " (12, 'De Kluizen', 'Buggy’s', 'ok', '20221109T160753'),\n",
       " (13, 'De Kluizen', 'Putting', 'ok', '20221109T160753'),\n",
       " (14, 'De Kluizen', 'Chipping', 'ok', '20221109T160753'),\n",
       " (15, 'De Kluizen', 'Terrein', 'ok', '20221109T160814'),\n",
       " (16, 'De Kluizen', 'Clubhuis', 'ok', '20221109T160814'),\n",
       " (17, 'De Kluizen', 'Driving', 'ok', '20221109T160814'),\n",
       " (18, 'De Kluizen', 'Lockers', 'ok', '20221109T160814'),\n",
       " (19, 'De Kluizen', 'Buggy’s', 'ok', '20221109T160814'),\n",
       " (20, 'De Kluizen', 'Putting', 'ok', '20221109T160814'),\n",
       " (21, 'De Kluizen', 'Chipping', 'ok', '20221109T160814')]"
      ]
     },
     "execution_count": 2,
     "metadata": {},
     "output_type": "execute_result"
    }
   ],
   "source": [
    "import requests\n",
    "from bs4 import BeautifulSoup\n",
    "import pandas as pd\n",
    "import sqlite3\n",
    "import datetime as dt\n",
    "from sqlite3 import Error\n",
    "\n",
    "URL = \"https://dekluizen.be/\"\n",
    "page = requests.get(URL)\n",
    "soup = BeautifulSoup(page.content, 'html.parser')\n",
    "\n",
    "elements = soup.find(\"div\", class_=\"baanStatus contentBlock halfWidth light\")\n",
    "elements.find_all('p', recursive=False)\n",
    "dict = {}\n",
    "for p in elements.find_all('p', recursive=False):\n",
    "    attr = p.attrs.get(\"class\")[0]\n",
    "    value = p.text.split()[0]\n",
    "    dict[value] = attr\n",
    "#dyk = soup.find(\"div\", class_=\"baanStatus contentBlock halfWidth light\").find('p')\n",
    "\n",
    "print(dict)\n",
    "path = \"c:\\\\lokaal\\\\scripts\\\\git_personal\\\\codewars\\\\test.db\"\n",
    "def create_connection(path):\n",
    "    connection = None\n",
    "    try:\n",
    "        connection = sqlite3.connect(path)\n",
    "        print(\"Connection to SQLite DB successful\")\n",
    "        return connection\n",
    "    except Error as e:\n",
    "        print(f\"The error '{e}' occurred\")\n",
    "\n",
    "def execute_query(connection, query):\n",
    "    cursor = connection.cursor()\n",
    "    try:\n",
    "        cursor.execute(query)\n",
    "        connection.commit()\n",
    "        print(\"Query executed successfully\")\n",
    "    except Error as e:\n",
    "        print(f\"The error '{e}' occurred\")\n",
    "\n",
    "def execute_read_query(connection, query):\n",
    "    cursor = connection.cursor()\n",
    "    result = None\n",
    "    try:\n",
    "        cursor.execute(query)\n",
    "        result = cursor.fetchall()\n",
    "        return result\n",
    "    except Error as e:\n",
    "        print(f\"The error '{e}' occurred\")\n",
    "\n",
    "conn = create_connection(path)\n",
    "\n",
    "now = dt.datetime.now()\n",
    "timeStamp =  now.strftime(\"%Y%m%d\"+\"T\"+\"%H%M%S\")\n",
    "\n",
    "\n",
    "for key in dict:\n",
    "    sql = \"INSERT INTO baanstatus (course, element, status, date) VALUES('De Kluizen','\" + key + \"','\" + dict[key] + \"','\" + str(timeStamp) +\"');\"   \n",
    "    execute_query(conn, sql)\n",
    "\n",
    "#sql = \"\"\"CREATE TABLE IF NOT EXISTS baanstatus (course TEXT NOT NULL,element TEXT NOT NULL,status TEXT NOT NULL,date TEXT NOT NULL);\"\"\"\n",
    "#execute_query(conn, sql)\n",
    "\n",
    "#sqlite> CREATE TABLE IF NOT EXISTS baanstatus (\n",
    "#   ...> id INTEGER PRIMARY KEY AUTOINCREMENT,\n",
    "#   ...> course TEXT NOT NULL,\n",
    "#   ...> element TEXT NOT NULL,\n",
    "#    ...> status TEXT NOT NULL,\n",
    "#   ...> date TEXT NOT NULL);\n",
    "\n",
    "\n",
    "sql = \"\"\"\n",
    "SELECT * FROM BAANSTATUS\n",
    "\"\"\"\n",
    "execute_read_query(conn, sql)\n",
    "\n",
    "\n",
    "\n",
    "\n"
   ]
  },
  {
   "cell_type": "code",
   "execution_count": null,
   "metadata": {},
   "outputs": [],
   "source": []
  }
 ],
 "metadata": {
  "kernelspec": {
   "display_name": "Python 3.10.8 64-bit",
   "language": "python",
   "name": "python3"
  },
  "language_info": {
   "codemirror_mode": {
    "name": "ipython",
    "version": 3
   },
   "file_extension": ".py",
   "mimetype": "text/x-python",
   "name": "python",
   "nbconvert_exporter": "python",
   "pygments_lexer": "ipython3",
   "version": "3.10.8"
  },
  "orig_nbformat": 4,
  "vscode": {
   "interpreter": {
    "hash": "beca5da3083f19144ba1e1f7878ef299cb438c45b7dac10152d338e9eb6b5eae"
   }
  }
 },
 "nbformat": 4,
 "nbformat_minor": 2
}
